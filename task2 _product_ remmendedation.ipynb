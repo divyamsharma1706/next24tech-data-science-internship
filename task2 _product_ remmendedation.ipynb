import numpy as np
import pandas as pd
import matplotlib.pyplot as plt

# %matplotlib inline
plt.style.use("ggplot")

import sklearn
from sklearn.decomposition import TruncatedSVD
Loading the dataset
amazon_ratings = pd.read_csv('f:\\ratings_Beauty.csv')
amazon_ratings = amazon_ratings.dropna()
amazon_ratings.head()
